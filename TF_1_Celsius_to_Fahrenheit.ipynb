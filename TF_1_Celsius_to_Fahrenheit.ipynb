{
  "nbformat": 4,
  "nbformat_minor": 0,
  "metadata": {
    "colab": {
      "name": "Udacity: TF : 1. Celsius  to Fahrenheit",
      "provenance": [],
      "collapsed_sections": []
    },
    "kernelspec": {
      "name": "python3",
      "display_name": "Python 3"
    },
    "language_info": {
      "name": "python"
    }
  },
  "cells": [
    {
      "cell_type": "code",
      "metadata": {
        "id": "jk1845ZbW6U0"
      },
      "source": [
        "import tensorflow as tf\n",
        "import numpy as np"
      ],
      "execution_count": null,
      "outputs": []
    },
    {
      "cell_type": "code",
      "metadata": {
        "colab": {
          "base_uri": "https://localhost:8080/"
        },
        "id": "pNnA9OvYXkuO",
        "outputId": "4dd79d64-e75d-47e8-a623-d06b6e903d85"
      },
      "source": [
        "celsius = np.array([-40, -10, 0, 8, 15, 22, 38], dtype=float)\n",
        "fahrenheit = np.array([-40, 14, 32, 46, 59, 72, 100], dtype=float)\n",
        "\n",
        "for i,c in enumerate(celsius):\n",
        "  print(\"{} Degrees Celsuis = {} degree Fahrenhet\".format(c, fahrenheit[i]))"
      ],
      "execution_count": null,
      "outputs": [
        {
          "output_type": "stream",
          "text": [
            "-40.0 Degrees Celsuis = -40.0 degree Fahrenhet\n",
            "-10.0 Degrees Celsuis = 14.0 degree Fahrenhet\n",
            "0.0 Degrees Celsuis = 32.0 degree Fahrenhet\n",
            "8.0 Degrees Celsuis = 46.0 degree Fahrenhet\n",
            "15.0 Degrees Celsuis = 59.0 degree Fahrenhet\n",
            "22.0 Degrees Celsuis = 72.0 degree Fahrenhet\n",
            "38.0 Degrees Celsuis = 100.0 degree Fahrenhet\n"
          ],
          "name": "stdout"
        }
      ]
    },
    {
      "cell_type": "code",
      "metadata": {
        "id": "nmU0J_gNYKpU"
      },
      "source": [
        "L0 = tf.keras.layers.Dense (units = 1, input_shape=[1])"
      ],
      "execution_count": null,
      "outputs": []
    },
    {
      "cell_type": "code",
      "metadata": {
        "id": "1t7LgZ8XZlvK"
      },
      "source": [
        "model = tf.keras.Sequential([L0])"
      ],
      "execution_count": null,
      "outputs": []
    },
    {
      "cell_type": "code",
      "metadata": {
        "id": "gZX1KIXRZ2jJ"
      },
      "source": [
        "model.compile(loss='mean_squared_error',\n",
        "              optimizer=tf.keras.optimizers.Adam(0.1))"
      ],
      "execution_count": null,
      "outputs": []
    },
    {
      "cell_type": "code",
      "metadata": {
        "colab": {
          "base_uri": "https://localhost:8080/"
        },
        "id": "9qDqM34MaJ6h",
        "outputId": "993a00bb-311e-4cc6-b406-c67adc578edc"
      },
      "source": [
        "trained_model = model.fit(celsius, fahrenheit, epochs=500, verbose=False)\n",
        "print(\"Training Complete\")"
      ],
      "execution_count": null,
      "outputs": [
        {
          "output_type": "stream",
          "text": [
            "Training Complete\n"
          ],
          "name": "stdout"
        }
      ]
    },
    {
      "cell_type": "code",
      "metadata": {
        "colab": {
          "base_uri": "https://localhost:8080/",
          "height": 297
        },
        "id": "dojxgXQRaryP",
        "outputId": "4990dca3-5b6f-4b84-f31f-47b1d3a7f90a"
      },
      "source": [
        "import matplotlib.pyplot as plt\n",
        "\n",
        "plt.xlabel('Epoch Number')\n",
        "plt.ylabel('Loss Magnitude')\n",
        "plt.plot(trained_model.history['loss'])"
      ],
      "execution_count": null,
      "outputs": [
        {
          "output_type": "execute_result",
          "data": {
            "text/plain": [
              "[<matplotlib.lines.Line2D at 0x7f642376a310>]"
            ]
          },
          "metadata": {
            "tags": []
          },
          "execution_count": 25
        },
        {
          "output_type": "display_data",
          "data": {
            "image/png": "[encoded data removed]",
            "text/plain": [
              "<Figure size 432x288 with 1 Axes>"
            ]
          },
          "metadata": {
            "tags": [],
            "needs_background": "light"
          }
        }
      ]
    },
    {
      "cell_type": "code",
      "metadata": {
        "colab": {
          "base_uri": "https://localhost:8080/"
        },
        "id": "sE1eqfXAbS3D",
        "outputId": "2c933b46-ed58-4199-e4ba-58faf286cfed"
      },
      "source": [
        "print(model.predict([38]))"
      ],
      "execution_count": null,
      "outputs": [
        {
          "output_type": "stream",
          "text": [
            "[[98.27725]]\n"
          ],
          "name": "stdout"
        }
      ]
    },
    {
      "cell_type": "code",
      "metadata": {
        "colab": {
          "base_uri": "https://localhost:8080/"
        },
        "id": "QSrIcYANbfJn",
        "outputId": "2b8d055f-fe2f-4387-b272-f4b72e0e2556"
      },
      "source": [
        "print('Layer Variables: {}'.format(L0.get_weights()))\n",
        "print('Layer Variables: {}'.format(L0.get_config()))"
      ],
      "execution_count": null,
      "outputs": [
        {
          "output_type": "stream",
          "text": [
            "Layer Variables: [array([[1.8232427]], dtype=float32), array([28.994034], dtype=float32)]\n",
            "Layer Variables: {'name': 'dense_9', 'trainable': True, 'batch_input_shape': (None, 1), 'dtype': 'float32', 'units': 1, 'activation': 'linear', 'use_bias': True, 'kernel_initializer': {'class_name': 'GlorotUniform', 'config': {'seed': None}}, 'bias_initializer': {'class_name': 'Zeros', 'config': {}}, 'kernel_regularizer': None, 'bias_regularizer': None, 'activity_regularizer': None, 'kernel_constraint': None, 'bias_constraint': None}\n"
          ],
          "name": "stdout"
        }
      ]
    },
    {
      "cell_type": "code",
      "metadata": {
        "id": "cMNMasNZcOlB"
      },
      "source": [
        "#----------------------------------------------------------"
      ],
      "execution_count": null,
      "outputs": []
    },
    {
      "cell_type": "code",
      "metadata": {
        "colab": {
          "base_uri": "https://localhost:8080/"
        },
        "id": "giuquUQCcSYg",
        "outputId": "f7d07809-884e-4288-fae9-48e3482115ca"
      },
      "source": [
        "L0 = tf.keras.layers.Dense (units = 8, input_shape=[1])\n",
        "L1 = tf.keras.layers.Dense (units = 4)\n",
        "L2 = tf.keras.layers.Dense (units = 2)\n",
        "L3 = tf.keras.layers.Dense (units = 1)\n",
        "\n",
        "model2 = tf.keras.Sequential([L0, L1, L2, L3])\n",
        "\n",
        "model2.compile(loss='mean_squared_error',\n",
        "              optimizer=tf.keras.optimizers.Adam(0.1))\n",
        "\n",
        "trained_model2 = model2.fit(celsius, fahrenheit, epochs=500, verbose=False)\n",
        "print(\"Training Complete\")"
      ],
      "execution_count": null,
      "outputs": [
        {
          "output_type": "stream",
          "text": [
            "Training Complete\n"
          ],
          "name": "stdout"
        }
      ]
    },
    {
      "cell_type": "code",
      "metadata": {
        "colab": {
          "base_uri": "https://localhost:8080/",
          "height": 296
        },
        "id": "_Fun8LWSc4cA",
        "outputId": "0b914aea-5d78-463d-d549-b6b125e7afdd"
      },
      "source": [
        "import matplotlib.pyplot as plt\n",
        "\n",
        "plt.xlabel('Epoch Number')\n",
        "plt.ylabel('Loss Magnitude')\n",
        "plt.plot(trained_model2.history['loss'])"
      ],
      "execution_count": null,
      "outputs": [
        {
          "output_type": "execute_result",
          "data": {
            "text/plain": [
              "[<matplotlib.lines.Line2D at 0x7f64225efb10>]"
            ]
          },
          "metadata": {
            "tags": []
          },
          "execution_count": 30
        },
        {
          "output_type": "display_data",
          "data": {
            "image/png": "[encoded data removed]",
            "text/plain": [
              "<Figure size 432x288 with 1 Axes>"
            ]
          },
          "metadata": {
            "tags": [],
            "needs_background": "light"
          }
        }
      ]
    },
    {
      "cell_type": "code",
      "metadata": {
        "colab": {
          "base_uri": "https://localhost:8080/"
        },
        "id": "5PSYp9Q_c-u7",
        "outputId": "2576b2f6-fe3d-4f3d-88df-f7349e904051"
      },
      "source": [
        "print('Layer Variables: {}'.format(L0.get_weights()))\n",
        "print('Layer Variables: {}'.format(L1.get_weights()))\n",
        "print('Layer Variables: {}'.format(L2.get_weights()))\n",
        "print('Layer Variables: {}'.format(L3.get_weights()))"
      ],
      "execution_count": null,
      "outputs": [
        {
          "output_type": "stream",
          "text": [
            "Layer Variables: [array([[-0.5937563 , -0.22930178,  0.24084158,  0.10643533,  0.32241416,\n",
            "        -0.43025312, -0.24028319,  0.06655218]], dtype=float32), array([-2.909252 , -3.252822 ,  3.3180377,  3.1328454,  2.7579145,\n",
            "       -2.9582722,  1.6499767,  2.8473754], dtype=float32)]\n",
            "Layer Variables: [array([[ 0.6255796 ,  0.33175454,  0.42039594, -0.8554466 ],\n",
            "       [ 0.82840323, -1.0167471 , -0.12208179,  0.516857  ],\n",
            "       [-0.56683105,  1.5088964 ,  0.8251267 , -0.58166516],\n",
            "       [-0.6767968 ,  0.5173114 , -0.3231418 ,  0.20413291],\n",
            "       [-0.9763703 , -0.19801445,  0.29549012,  0.14088498],\n",
            "       [ 1.089725  ,  0.20886683,  0.20651902, -0.25302407],\n",
            "       [-0.35095263, -0.25530443,  0.13709499,  0.65312994],\n",
            "       [-0.46043682, -0.22288813,  0.6173805 ,  0.2934073 ]],\n",
            "      dtype=float32), array([-3.256748  ,  1.3950654 ,  1.3513417 ,  0.55843395], dtype=float32)]\n",
            "Layer Variables: [array([[ 0.43720552,  0.8158531 ],\n",
            "       [ 0.28793323, -0.23866268],\n",
            "       [ 0.4083375 , -0.0938333 ],\n",
            "       [ 0.13884124, -0.09720257]], dtype=float32), array([-2.276226, -3.07984 ], dtype=float32)]\n",
            "Layer Variables: [array([[-0.16318637],\n",
            "       [-1.2858315 ]], dtype=float32), array([3.0083761], dtype=float32)]\n"
          ],
          "name": "stdout"
        }
      ]
    },
    {
      "cell_type": "code",
      "metadata": {
        "id": "M16BnKOPoRCA"
      },
      "source": [
        "#-----------------------------------------------------------"
      ],
      "execution_count": null,
      "outputs": []
    }
  ]
}