{
  "nbformat": 4,
  "nbformat_minor": 0,
  "metadata": {
    "colab": {
      "name": "ML_Buzz_Beginer_Discount based on customer behavior",
      "provenance": [],
      "collapsed_sections": [],
      "authorship_tag": "ABX9TyPmuQFk9FCyw3qZCzDJsSd9",
      "include_colab_link": true
    },
    "kernelspec": {
      "display_name": "Python 3",
      "name": "python3"
    },
    "language_info": {
      "name": "python"
    },
    "accelerator": "GPU"
  },
  "cells": [
    {
      "cell_type": "markdown",
      "metadata": {
        "id": "view-in-github",
        "colab_type": "text"
      },
      "source": [
        "<a href=\"https://colab.research.google.com/github/nikhiltarte/TensorFlow-DeepLearning/blob/main/ML_Buzz_Beginer_Discount_based_on_customer_behavior.ipynb\" target=\"_parent\"><img src=\"https://colab.research.google.com/assets/colab-badge.svg\" alt=\"Open In Colab\"/></a>"
      ]
    },
    {
      "cell_type": "markdown",
      "metadata": {
        "id": "YYn8Ot8DusqY"
      },
      "source": [
        "Import Libraries"
      ]
    },
    {
      "cell_type": "code",
      "metadata": {
        "id": "3GchHM8dt_Bx"
      },
      "source": [
        "import tensorflow as tf\n",
        "import numpy as np\n",
        "import pandas as pd\n",
        "from google.colab import files"
      ],
      "execution_count": 1,
      "outputs": []
    },
    {
      "cell_type": "markdown",
      "metadata": {
        "id": "CexiAaifvdaz"
      },
      "source": [
        "Importing Dataset"
      ]
    },
    {
      "cell_type": "code",
      "metadata": {
        "colab": {
          "resources": {
            "http://localhost:8080/nbextensions/google.colab/files.js": {
              "data": "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",
              "ok": true,
              "headers": [
                [
                  "content-type",
                  "application/javascript"
                ]
              ],
              "status": 200,
              "status_text": "OK"
            }
          },
          "base_uri": "https://localhost:8080/",
          "height": 106
        },
        "id": "zPN8YgP4u3Yd",
        "outputId": "c9476d1f-921f-49bc-8e4b-1afe5841552a"
      },
      "source": [
        "#Import_Both Test and Train Dataset with name as train.csv and test.csv\n",
        "\n",
        "uploaded = files.upload()"
      ],
      "execution_count": 2,
      "outputs": [
        {
          "output_type": "display_data",
          "data": {
            "text/html": [
              "\n",
              "     <input type=\"file\" id=\"files-b01f4ef5-7ec8-4e57-a9a8-5ca9c3d5a244\" name=\"files[]\" multiple disabled\n",
              "        style=\"border:none\" />\n",
              "     <output id=\"result-b01f4ef5-7ec8-4e57-a9a8-5ca9c3d5a244\">\n",
              "      Upload widget is only available when the cell has been executed in the\n",
              "      current browser session. Please rerun this cell to enable.\n",
              "      </output>\n",
              "      <script src=\"/nbextensions/google.colab/files.js\"></script> "
            ],
            "text/plain": [
              "<IPython.core.display.HTML object>"
            ]
          },
          "metadata": {}
        },
        {
          "output_type": "stream",
          "name": "stdout",
          "text": [
            "Saving test.csv to test.csv\n",
            "Saving train.csv to train.csv\n"
          ]
        }
      ]
    },
    {
      "cell_type": "code",
      "metadata": {
        "colab": {
          "base_uri": "https://localhost:8080/",
          "height": 439
        },
        "id": "H31n-ybrvxfo",
        "outputId": "80ea2bfe-b2fc-4495-966d-fa22919dc6d3"
      },
      "source": [
        "import io\n",
        "\n",
        "train_Dataset = pd.read_csv(io.BytesIO(uploaded['train.csv']))\n",
        "test_Dataset = pd.read_csv(io.BytesIO(uploaded['test.csv']))\n",
        "\n",
        "train_Dataset"
      ],
      "execution_count": 154,
      "outputs": [
        {
          "output_type": "execute_result",
          "data": {
            "text/html": [
              "<div>\n",
              "<style scoped>\n",
              "    .dataframe tbody tr th:only-of-type {\n",
              "        vertical-align: middle;\n",
              "    }\n",
              "\n",
              "    .dataframe tbody tr th {\n",
              "        vertical-align: top;\n",
              "    }\n",
              "\n",
              "    .dataframe thead th {\n",
              "        text-align: right;\n",
              "    }\n",
              "</style>\n",
              "<table border=\"1\" class=\"dataframe\">\n",
              "  <thead>\n",
              "    <tr style=\"text-align: right;\">\n",
              "      <th></th>\n",
              "      <th>Customer_ID</th>\n",
              "      <th>No_of_orders_placed</th>\n",
              "      <th>Category_of_customers</th>\n",
              "      <th>Maximum_bill</th>\n",
              "      <th>Minimum_bill</th>\n",
              "      <th>Last_order_placed_date</th>\n",
              "      <th>No_of_issues_raised</th>\n",
              "      <th>Customer_rating</th>\n",
              "      <th>Average_food_rating</th>\n",
              "      <th>Average_happiness_rating</th>\n",
              "      <th>Coupon_consumption_status</th>\n",
              "      <th>Coupons_offered</th>\n",
              "      <th>Premium_membership</th>\n",
              "      <th>Discount_percentage</th>\n",
              "    </tr>\n",
              "  </thead>\n",
              "  <tbody>\n",
              "    <tr>\n",
              "      <th>0</th>\n",
              "      <td>ID0xb02f</td>\n",
              "      <td>129.000000</td>\n",
              "      <td>Active</td>\n",
              "      <td>2251.620000</td>\n",
              "      <td>261.26</td>\n",
              "      <td>04/02/2020 11:29 AM</td>\n",
              "      <td>129.000000</td>\n",
              "      <td>4</td>\n",
              "      <td>4</td>\n",
              "      <td>4</td>\n",
              "      <td>129.0</td>\n",
              "      <td>215.0</td>\n",
              "      <td>No</td>\n",
              "      <td>34</td>\n",
              "    </tr>\n",
              "    <tr>\n",
              "      <th>1</th>\n",
              "      <td>ID0x8cff</td>\n",
              "      <td>NaN</td>\n",
              "      <td>Inactive</td>\n",
              "      <td>-450.457485</td>\n",
              "      <td>98.63</td>\n",
              "      <td>02/22/2016 04:08 AM</td>\n",
              "      <td>NaN</td>\n",
              "      <td>4</td>\n",
              "      <td>4</td>\n",
              "      <td>2</td>\n",
              "      <td>118.0</td>\n",
              "      <td>246.0</td>\n",
              "      <td>No</td>\n",
              "      <td>42</td>\n",
              "    </tr>\n",
              "    <tr>\n",
              "      <th>2</th>\n",
              "      <td>ID0xc812</td>\n",
              "      <td>100.000000</td>\n",
              "      <td>Passive</td>\n",
              "      <td>1792.660000</td>\n",
              "      <td>144.00</td>\n",
              "      <td>08/23/2018 07:08 PM</td>\n",
              "      <td>100.000000</td>\n",
              "      <td>4</td>\n",
              "      <td>4</td>\n",
              "      <td>5</td>\n",
              "      <td>66.0</td>\n",
              "      <td>121.0</td>\n",
              "      <td>No</td>\n",
              "      <td>31</td>\n",
              "    </tr>\n",
              "    <tr>\n",
              "      <th>3</th>\n",
              "      <td>ID0xedcd</td>\n",
              "      <td>87.000000</td>\n",
              "      <td>Active</td>\n",
              "      <td>2260.730000</td>\n",
              "      <td>192.00</td>\n",
              "      <td>02/03/2020 06:31 AM</td>\n",
              "      <td>87.000000</td>\n",
              "      <td>4</td>\n",
              "      <td>4</td>\n",
              "      <td>3</td>\n",
              "      <td>59.0</td>\n",
              "      <td>118.0</td>\n",
              "      <td>No</td>\n",
              "      <td>19</td>\n",
              "    </tr>\n",
              "    <tr>\n",
              "      <th>4</th>\n",
              "      <td>ID0x93c3</td>\n",
              "      <td>40.000000</td>\n",
              "      <td>Passive</td>\n",
              "      <td>2083.890000</td>\n",
              "      <td>229.13</td>\n",
              "      <td>06/26/2019 01:30 PM</td>\n",
              "      <td>40.000000</td>\n",
              "      <td>4</td>\n",
              "      <td>5</td>\n",
              "      <td>2</td>\n",
              "      <td>40.0</td>\n",
              "      <td>50.0</td>\n",
              "      <td>No</td>\n",
              "      <td>21</td>\n",
              "    </tr>\n",
              "    <tr>\n",
              "      <th>...</th>\n",
              "      <td>...</td>\n",
              "      <td>...</td>\n",
              "      <td>...</td>\n",
              "      <td>...</td>\n",
              "      <td>...</td>\n",
              "      <td>...</td>\n",
              "      <td>...</td>\n",
              "      <td>...</td>\n",
              "      <td>...</td>\n",
              "      <td>...</td>\n",
              "      <td>...</td>\n",
              "      <td>...</td>\n",
              "      <td>...</td>\n",
              "      <td>...</td>\n",
              "    </tr>\n",
              "    <tr>\n",
              "      <th>53797</th>\n",
              "      <td>ID0x56a</td>\n",
              "      <td>250.000000</td>\n",
              "      <td>Active</td>\n",
              "      <td>3375.350000</td>\n",
              "      <td>148.97</td>\n",
              "      <td>11/17/2020 11:44 AM</td>\n",
              "      <td>250.000000</td>\n",
              "      <td>4</td>\n",
              "      <td>4</td>\n",
              "      <td>3</td>\n",
              "      <td>67.0</td>\n",
              "      <td>366.0</td>\n",
              "      <td>No</td>\n",
              "      <td>36</td>\n",
              "    </tr>\n",
              "    <tr>\n",
              "      <th>53798</th>\n",
              "      <td>ID0x82c8</td>\n",
              "      <td>226.000000</td>\n",
              "      <td>Passive</td>\n",
              "      <td>526.680000</td>\n",
              "      <td>208.94</td>\n",
              "      <td>11/18/2018 10:07 AM</td>\n",
              "      <td>226.000000</td>\n",
              "      <td>4</td>\n",
              "      <td>3</td>\n",
              "      <td>4</td>\n",
              "      <td>43.0</td>\n",
              "      <td>272.0</td>\n",
              "      <td>No</td>\n",
              "      <td>36</td>\n",
              "    </tr>\n",
              "    <tr>\n",
              "      <th>53799</th>\n",
              "      <td>ID0xafed</td>\n",
              "      <td>151.000000</td>\n",
              "      <td>Passive</td>\n",
              "      <td>3132.900000</td>\n",
              "      <td>264.12</td>\n",
              "      <td>12/28/2018 09:39 AM</td>\n",
              "      <td>151.000000</td>\n",
              "      <td>4</td>\n",
              "      <td>4</td>\n",
              "      <td>4</td>\n",
              "      <td>98.0</td>\n",
              "      <td>226.0</td>\n",
              "      <td>Yes</td>\n",
              "      <td>51</td>\n",
              "    </tr>\n",
              "    <tr>\n",
              "      <th>53800</th>\n",
              "      <td>ID0x9eff</td>\n",
              "      <td>230.000000</td>\n",
              "      <td>Inactive</td>\n",
              "      <td>1971.600000</td>\n",
              "      <td>101.73</td>\n",
              "      <td>05/29/2017 01:50 PM</td>\n",
              "      <td>230.000000</td>\n",
              "      <td>3</td>\n",
              "      <td>4</td>\n",
              "      <td>2</td>\n",
              "      <td>114.0</td>\n",
              "      <td>328.0</td>\n",
              "      <td>No</td>\n",
              "      <td>21</td>\n",
              "    </tr>\n",
              "    <tr>\n",
              "      <th>53801</th>\n",
              "      <td>ID0x2cb5</td>\n",
              "      <td>361.420106</td>\n",
              "      <td>Passive</td>\n",
              "      <td>528.040000</td>\n",
              "      <td>117.68</td>\n",
              "      <td>01/18/2018 12:14 AM</td>\n",
              "      <td>361.420106</td>\n",
              "      <td>4</td>\n",
              "      <td>4</td>\n",
              "      <td>4</td>\n",
              "      <td>135.0</td>\n",
              "      <td>NaN</td>\n",
              "      <td>No</td>\n",
              "      <td>39</td>\n",
              "    </tr>\n",
              "  </tbody>\n",
              "</table>\n",
              "<p>53802 rows × 14 columns</p>\n",
              "</div>"
            ],
            "text/plain": [
              "      Customer_ID  No_of_orders_placed  ... Premium_membership  Discount_percentage\n",
              "0        ID0xb02f           129.000000  ...                 No                   34\n",
              "1        ID0x8cff                  NaN  ...                 No                   42\n",
              "2        ID0xc812           100.000000  ...                 No                   31\n",
              "3        ID0xedcd            87.000000  ...                 No                   19\n",
              "4        ID0x93c3            40.000000  ...                 No                   21\n",
              "...           ...                  ...  ...                ...                  ...\n",
              "53797     ID0x56a           250.000000  ...                 No                   36\n",
              "53798    ID0x82c8           226.000000  ...                 No                   36\n",
              "53799    ID0xafed           151.000000  ...                Yes                   51\n",
              "53800    ID0x9eff           230.000000  ...                 No                   21\n",
              "53801    ID0x2cb5           361.420106  ...                 No                   39\n",
              "\n",
              "[53802 rows x 14 columns]"
            ]
          },
          "metadata": {},
          "execution_count": 154
        }
      ]
    },
    {
      "cell_type": "code",
      "metadata": {
        "id": "nlzCAXe8bBs_"
      },
      "source": [
        ""
      ],
      "execution_count": 117,
      "outputs": []
    },
    {
      "cell_type": "code",
      "metadata": {
        "id": "vjPubfML70iv",
        "colab": {
          "base_uri": "https://localhost:8080/"
        },
        "outputId": "fa3876d5-a141-474b-83db-9342d7d58bc5"
      },
      "source": [
        "train_Dataset.dtypes\n",
        "\n"
      ],
      "execution_count": 155,
      "outputs": [
        {
          "output_type": "execute_result",
          "data": {
            "text/plain": [
              "Customer_ID                   object\n",
              "No_of_orders_placed          float64\n",
              "Category_of_customers         object\n",
              "Maximum_bill                 float64\n",
              "Minimum_bill                 float64\n",
              "Last_order_placed_date        object\n",
              "No_of_issues_raised          float64\n",
              "Customer_rating                int64\n",
              "Average_food_rating            int64\n",
              "Average_happiness_rating       int64\n",
              "Coupon_consumption_status    float64\n",
              "Coupons_offered              float64\n",
              "Premium_membership            object\n",
              "Discount_percentage            int64\n",
              "dtype: object"
            ]
          },
          "metadata": {},
          "execution_count": 155
        }
      ]
    },
    {
      "cell_type": "code",
      "metadata": {
        "id": "SbVyuCS5v8_W",
        "colab": {
          "base_uri": "https://localhost:8080/"
        },
        "outputId": "a1ab07da-c783-49fe-b07f-68396773c7ef"
      },
      "source": [
        "#Replace NA By Mean\n",
        "print(\"Train:\\n==================================\")\n",
        "print(train_Dataset.isna().any(axis=0))\n",
        "\n",
        "train_Dataset.isna().sum()\n",
        "train_Dataset = train_Dataset.dropna()\n",
        "#train_Dataset.fillna(train_Dataset.mean(), inplace=True)\n",
        "test_Dataset.fillna(test_Dataset.mean(), inplace=True)\n",
        "\n",
        "print(\"\\n\\nTrain:\\n==================================\")\n",
        "print(train_Dataset.isna().any(axis=0))\n",
        "print(\"\\n\\nTest:\\n==================================\")\n",
        "print(train_Dataset.isna().any(axis=0))"
      ],
      "execution_count": 156,
      "outputs": [
        {
          "output_type": "stream",
          "name": "stdout",
          "text": [
            "Train:\n",
            "==================================\n",
            "Customer_ID                  False\n",
            "No_of_orders_placed           True\n",
            "Category_of_customers        False\n",
            "Maximum_bill                 False\n",
            "Minimum_bill                 False\n",
            "Last_order_placed_date       False\n",
            "No_of_issues_raised           True\n",
            "Customer_rating              False\n",
            "Average_food_rating          False\n",
            "Average_happiness_rating     False\n",
            "Coupon_consumption_status     True\n",
            "Coupons_offered               True\n",
            "Premium_membership           False\n",
            "Discount_percentage          False\n",
            "dtype: bool\n",
            "\n",
            "\n",
            "Train:\n",
            "==================================\n",
            "Customer_ID                  False\n",
            "No_of_orders_placed          False\n",
            "Category_of_customers        False\n",
            "Maximum_bill                 False\n",
            "Minimum_bill                 False\n",
            "Last_order_placed_date       False\n",
            "No_of_issues_raised          False\n",
            "Customer_rating              False\n",
            "Average_food_rating          False\n",
            "Average_happiness_rating     False\n",
            "Coupon_consumption_status    False\n",
            "Coupons_offered              False\n",
            "Premium_membership           False\n",
            "Discount_percentage          False\n",
            "dtype: bool\n",
            "\n",
            "\n",
            "Test:\n",
            "==================================\n",
            "Customer_ID                  False\n",
            "No_of_orders_placed          False\n",
            "Category_of_customers        False\n",
            "Maximum_bill                 False\n",
            "Minimum_bill                 False\n",
            "Last_order_placed_date       False\n",
            "No_of_issues_raised          False\n",
            "Customer_rating              False\n",
            "Average_food_rating          False\n",
            "Average_happiness_rating     False\n",
            "Coupon_consumption_status    False\n",
            "Coupons_offered              False\n",
            "Premium_membership           False\n",
            "Discount_percentage          False\n",
            "dtype: bool\n"
          ]
        }
      ]
    },
    {
      "cell_type": "code",
      "metadata": {
        "id": "s052W-vsaxNO",
        "colab": {
          "base_uri": "https://localhost:8080/"
        },
        "outputId": "a3ad3502-7fd6-41e6-f486-26f07ac55dd9"
      },
      "source": [
        "#Drop Outliers for y\n",
        "train_Dataset['Last_order_placed_date'] = pd.to_datetime(train_Dataset['Last_order_placed_date'], format='%m/%d/%Y %I:%M %p')\n",
        "test_Dataset['Last_order_placed_date'] = pd.to_datetime(test_Dataset['Last_order_placed_date'], format='%m/%d/%Y %I:%M %p')\n",
        "\n",
        "print(train_Dataset.dtypes)"
      ],
      "execution_count": 157,
      "outputs": [
        {
          "output_type": "stream",
          "name": "stdout",
          "text": [
            "Customer_ID                          object\n",
            "No_of_orders_placed                 float64\n",
            "Category_of_customers                object\n",
            "Maximum_bill                        float64\n",
            "Minimum_bill                        float64\n",
            "Last_order_placed_date       datetime64[ns]\n",
            "No_of_issues_raised                 float64\n",
            "Customer_rating                       int64\n",
            "Average_food_rating                   int64\n",
            "Average_happiness_rating              int64\n",
            "Coupon_consumption_status           float64\n",
            "Coupons_offered                     float64\n",
            "Premium_membership                   object\n",
            "Discount_percentage                   int64\n",
            "dtype: object\n"
          ]
        },
        {
          "output_type": "stream",
          "name": "stderr",
          "text": [
            "/usr/local/lib/python3.7/dist-packages/ipykernel_launcher.py:2: SettingWithCopyWarning: \n",
            "A value is trying to be set on a copy of a slice from a DataFrame.\n",
            "Try using .loc[row_indexer,col_indexer] = value instead\n",
            "\n",
            "See the caveats in the documentation: https://pandas.pydata.org/pandas-docs/stable/user_guide/indexing.html#returning-a-view-versus-a-copy\n",
            "  \n"
          ]
        }
      ]
    },
    {
      "cell_type": "code",
      "metadata": {
        "id": "0QEMmdoplkKo",
        "colab": {
          "base_uri": "https://localhost:8080/"
        },
        "outputId": "f9436318-aa6b-42ee-a4bc-10589df034f7"
      },
      "source": [
        "# Convert Datetime to Days from Max \n",
        "max_date_train = max(train_Dataset['Last_order_placed_date'])\n",
        "train_Dataset['Last_order_placed_date'] = (max_date_train - train_Dataset['Last_order_placed_date']).dt.days\n",
        "test_Dataset['Last_order_placed_date'] = (max_date_train - test_Dataset['Last_order_placed_date']).dt.days\n"
      ],
      "execution_count": 158,
      "outputs": [
        {
          "output_type": "stream",
          "name": "stderr",
          "text": [
            "/usr/local/lib/python3.7/dist-packages/ipykernel_launcher.py:3: SettingWithCopyWarning: \n",
            "A value is trying to be set on a copy of a slice from a DataFrame.\n",
            "Try using .loc[row_indexer,col_indexer] = value instead\n",
            "\n",
            "See the caveats in the documentation: https://pandas.pydata.org/pandas-docs/stable/user_guide/indexing.html#returning-a-view-versus-a-copy\n",
            "  This is separate from the ipykernel package so we can avoid doing imports until\n"
          ]
        }
      ]
    },
    {
      "cell_type": "code",
      "metadata": {
        "colab": {
          "base_uri": "https://localhost:8080/"
        },
        "id": "oNimiNnBqMH5",
        "outputId": "316ff6dd-9b3c-4be0-a130-a45fca22db9c"
      },
      "source": [
        "#Negitive Dataset\n",
        "\n",
        "train_Dataset.drop(train_Dataset.loc[(train_Dataset['Maximum_bill'] < 0) | (train_Dataset['Minimum_bill'] < 0) | (train_Dataset['No_of_orders_placed'] < 0) | (train_Dataset['No_of_issues_raised'] < 0)].index, inplace=True)\n",
        "#test_Dataset.loc[(test_Dataset['Maximum_bill'] < 0) | (test_Dataset['Minimum_bill'] < 0)]\n"
      ],
      "execution_count": 142,
      "outputs": [
        {
          "output_type": "stream",
          "name": "stderr",
          "text": [
            "/usr/local/lib/python3.7/dist-packages/pandas/core/frame.py:4174: SettingWithCopyWarning: \n",
            "A value is trying to be set on a copy of a slice from a DataFrame\n",
            "\n",
            "See the caveats in the documentation: https://pandas.pydata.org/pandas-docs/stable/user_guide/indexing.html#returning-a-view-versus-a-copy\n",
            "  errors=errors,\n"
          ]
        }
      ]
    },
    {
      "cell_type": "code",
      "metadata": {
        "colab": {
          "base_uri": "https://localhost:8080/",
          "height": 439
        },
        "id": "MbUDScWol8yD",
        "outputId": "172b8404-0456-4d9d-8e30-68b1bd0e7fd0"
      },
      "source": [
        "train_Dataset"
      ],
      "execution_count": 159,
      "outputs": [
        {
          "output_type": "execute_result",
          "data": {
            "text/html": [
              "<div>\n",
              "<style scoped>\n",
              "    .dataframe tbody tr th:only-of-type {\n",
              "        vertical-align: middle;\n",
              "    }\n",
              "\n",
              "    .dataframe tbody tr th {\n",
              "        vertical-align: top;\n",
              "    }\n",
              "\n",
              "    .dataframe thead th {\n",
              "        text-align: right;\n",
              "    }\n",
              "</style>\n",
              "<table border=\"1\" class=\"dataframe\">\n",
              "  <thead>\n",
              "    <tr style=\"text-align: right;\">\n",
              "      <th></th>\n",
              "      <th>Customer_ID</th>\n",
              "      <th>No_of_orders_placed</th>\n",
              "      <th>Category_of_customers</th>\n",
              "      <th>Maximum_bill</th>\n",
              "      <th>Minimum_bill</th>\n",
              "      <th>Last_order_placed_date</th>\n",
              "      <th>No_of_issues_raised</th>\n",
              "      <th>Customer_rating</th>\n",
              "      <th>Average_food_rating</th>\n",
              "      <th>Average_happiness_rating</th>\n",
              "      <th>Coupon_consumption_status</th>\n",
              "      <th>Coupons_offered</th>\n",
              "      <th>Premium_membership</th>\n",
              "      <th>Discount_percentage</th>\n",
              "    </tr>\n",
              "  </thead>\n",
              "  <tbody>\n",
              "    <tr>\n",
              "      <th>0</th>\n",
              "      <td>ID0xb02f</td>\n",
              "      <td>129.0</td>\n",
              "      <td>Active</td>\n",
              "      <td>2251.62</td>\n",
              "      <td>261.26</td>\n",
              "      <td>332</td>\n",
              "      <td>129.0</td>\n",
              "      <td>4</td>\n",
              "      <td>4</td>\n",
              "      <td>4</td>\n",
              "      <td>129.0</td>\n",
              "      <td>215.0</td>\n",
              "      <td>No</td>\n",
              "      <td>34</td>\n",
              "    </tr>\n",
              "    <tr>\n",
              "      <th>2</th>\n",
              "      <td>ID0xc812</td>\n",
              "      <td>100.0</td>\n",
              "      <td>Passive</td>\n",
              "      <td>1792.66</td>\n",
              "      <td>144.00</td>\n",
              "      <td>920</td>\n",
              "      <td>100.0</td>\n",
              "      <td>4</td>\n",
              "      <td>4</td>\n",
              "      <td>5</td>\n",
              "      <td>66.0</td>\n",
              "      <td>121.0</td>\n",
              "      <td>No</td>\n",
              "      <td>31</td>\n",
              "    </tr>\n",
              "    <tr>\n",
              "      <th>3</th>\n",
              "      <td>ID0xedcd</td>\n",
              "      <td>87.0</td>\n",
              "      <td>Active</td>\n",
              "      <td>2260.73</td>\n",
              "      <td>192.00</td>\n",
              "      <td>391</td>\n",
              "      <td>87.0</td>\n",
              "      <td>4</td>\n",
              "      <td>4</td>\n",
              "      <td>3</td>\n",
              "      <td>59.0</td>\n",
              "      <td>118.0</td>\n",
              "      <td>No</td>\n",
              "      <td>19</td>\n",
              "    </tr>\n",
              "    <tr>\n",
              "      <th>4</th>\n",
              "      <td>ID0x93c3</td>\n",
              "      <td>40.0</td>\n",
              "      <td>Passive</td>\n",
              "      <td>2083.89</td>\n",
              "      <td>229.13</td>\n",
              "      <td>613</td>\n",
              "      <td>40.0</td>\n",
              "      <td>4</td>\n",
              "      <td>5</td>\n",
              "      <td>2</td>\n",
              "      <td>40.0</td>\n",
              "      <td>50.0</td>\n",
              "      <td>No</td>\n",
              "      <td>21</td>\n",
              "    </tr>\n",
              "    <tr>\n",
              "      <th>5</th>\n",
              "      <td>ID0xd263</td>\n",
              "      <td>158.0</td>\n",
              "      <td>Active</td>\n",
              "      <td>1629.92</td>\n",
              "      <td>256.96</td>\n",
              "      <td>289</td>\n",
              "      <td>158.0</td>\n",
              "      <td>4</td>\n",
              "      <td>4</td>\n",
              "      <td>4</td>\n",
              "      <td>113.0</td>\n",
              "      <td>205.0</td>\n",
              "      <td>No</td>\n",
              "      <td>45</td>\n",
              "    </tr>\n",
              "    <tr>\n",
              "      <th>...</th>\n",
              "      <td>...</td>\n",
              "      <td>...</td>\n",
              "      <td>...</td>\n",
              "      <td>...</td>\n",
              "      <td>...</td>\n",
              "      <td>...</td>\n",
              "      <td>...</td>\n",
              "      <td>...</td>\n",
              "      <td>...</td>\n",
              "      <td>...</td>\n",
              "      <td>...</td>\n",
              "      <td>...</td>\n",
              "      <td>...</td>\n",
              "      <td>...</td>\n",
              "    </tr>\n",
              "    <tr>\n",
              "      <th>53796</th>\n",
              "      <td>ID0xa193</td>\n",
              "      <td>134.0</td>\n",
              "      <td>Passive</td>\n",
              "      <td>3180.09</td>\n",
              "      <td>319.21</td>\n",
              "      <td>837</td>\n",
              "      <td>134.0</td>\n",
              "      <td>4</td>\n",
              "      <td>4</td>\n",
              "      <td>4</td>\n",
              "      <td>45.0</td>\n",
              "      <td>222.0</td>\n",
              "      <td>No</td>\n",
              "      <td>36</td>\n",
              "    </tr>\n",
              "    <tr>\n",
              "      <th>53797</th>\n",
              "      <td>ID0x56a</td>\n",
              "      <td>250.0</td>\n",
              "      <td>Active</td>\n",
              "      <td>3375.35</td>\n",
              "      <td>148.97</td>\n",
              "      <td>103</td>\n",
              "      <td>250.0</td>\n",
              "      <td>4</td>\n",
              "      <td>4</td>\n",
              "      <td>3</td>\n",
              "      <td>67.0</td>\n",
              "      <td>366.0</td>\n",
              "      <td>No</td>\n",
              "      <td>36</td>\n",
              "    </tr>\n",
              "    <tr>\n",
              "      <th>53798</th>\n",
              "      <td>ID0x82c8</td>\n",
              "      <td>226.0</td>\n",
              "      <td>Passive</td>\n",
              "      <td>526.68</td>\n",
              "      <td>208.94</td>\n",
              "      <td>833</td>\n",
              "      <td>226.0</td>\n",
              "      <td>4</td>\n",
              "      <td>3</td>\n",
              "      <td>4</td>\n",
              "      <td>43.0</td>\n",
              "      <td>272.0</td>\n",
              "      <td>No</td>\n",
              "      <td>36</td>\n",
              "    </tr>\n",
              "    <tr>\n",
              "      <th>53799</th>\n",
              "      <td>ID0xafed</td>\n",
              "      <td>151.0</td>\n",
              "      <td>Passive</td>\n",
              "      <td>3132.90</td>\n",
              "      <td>264.12</td>\n",
              "      <td>793</td>\n",
              "      <td>151.0</td>\n",
              "      <td>4</td>\n",
              "      <td>4</td>\n",
              "      <td>4</td>\n",
              "      <td>98.0</td>\n",
              "      <td>226.0</td>\n",
              "      <td>Yes</td>\n",
              "      <td>51</td>\n",
              "    </tr>\n",
              "    <tr>\n",
              "      <th>53800</th>\n",
              "      <td>ID0x9eff</td>\n",
              "      <td>230.0</td>\n",
              "      <td>Inactive</td>\n",
              "      <td>1971.60</td>\n",
              "      <td>101.73</td>\n",
              "      <td>1371</td>\n",
              "      <td>230.0</td>\n",
              "      <td>3</td>\n",
              "      <td>4</td>\n",
              "      <td>2</td>\n",
              "      <td>114.0</td>\n",
              "      <td>328.0</td>\n",
              "      <td>No</td>\n",
              "      <td>21</td>\n",
              "    </tr>\n",
              "  </tbody>\n",
              "</table>\n",
              "<p>49737 rows × 14 columns</p>\n",
              "</div>"
            ],
            "text/plain": [
              "      Customer_ID  No_of_orders_placed  ... Premium_membership  Discount_percentage\n",
              "0        ID0xb02f                129.0  ...                 No                   34\n",
              "2        ID0xc812                100.0  ...                 No                   31\n",
              "3        ID0xedcd                 87.0  ...                 No                   19\n",
              "4        ID0x93c3                 40.0  ...                 No                   21\n",
              "5        ID0xd263                158.0  ...                 No                   45\n",
              "...           ...                  ...  ...                ...                  ...\n",
              "53796    ID0xa193                134.0  ...                 No                   36\n",
              "53797     ID0x56a                250.0  ...                 No                   36\n",
              "53798    ID0x82c8                226.0  ...                 No                   36\n",
              "53799    ID0xafed                151.0  ...                Yes                   51\n",
              "53800    ID0x9eff                230.0  ...                 No                   21\n",
              "\n",
              "[49737 rows x 14 columns]"
            ]
          },
          "metadata": {},
          "execution_count": 159
        }
      ]
    },
    {
      "cell_type": "code",
      "metadata": {
        "colab": {
          "base_uri": "https://localhost:8080/",
          "height": 390
        },
        "id": "9AtDCpW9qP9q",
        "outputId": "76b36f4a-7b9d-4b1e-d6f8-a00566ab59db"
      },
      "source": [
        "#Analysing Dataset\n",
        "train_Dataset.describe().transpose()"
      ],
      "execution_count": 160,
      "outputs": [
        {
          "output_type": "execute_result",
          "data": {
            "text/html": [
              "<div>\n",
              "<style scoped>\n",
              "    .dataframe tbody tr th:only-of-type {\n",
              "        vertical-align: middle;\n",
              "    }\n",
              "\n",
              "    .dataframe tbody tr th {\n",
              "        vertical-align: top;\n",
              "    }\n",
              "\n",
              "    .dataframe thead th {\n",
              "        text-align: right;\n",
              "    }\n",
              "</style>\n",
              "<table border=\"1\" class=\"dataframe\">\n",
              "  <thead>\n",
              "    <tr style=\"text-align: right;\">\n",
              "      <th></th>\n",
              "      <th>count</th>\n",
              "      <th>mean</th>\n",
              "      <th>std</th>\n",
              "      <th>min</th>\n",
              "      <th>25%</th>\n",
              "      <th>50%</th>\n",
              "      <th>75%</th>\n",
              "      <th>max</th>\n",
              "    </tr>\n",
              "  </thead>\n",
              "  <tbody>\n",
              "    <tr>\n",
              "      <th>No_of_orders_placed</th>\n",
              "      <td>49737.0</td>\n",
              "      <td>127.368974</td>\n",
              "      <td>92.278305</td>\n",
              "      <td>-477.349415</td>\n",
              "      <td>62.00</td>\n",
              "      <td>127.00</td>\n",
              "      <td>192.00</td>\n",
              "      <td>724.669533</td>\n",
              "    </tr>\n",
              "    <tr>\n",
              "      <th>Maximum_bill</th>\n",
              "      <td>49737.0</td>\n",
              "      <td>1950.004482</td>\n",
              "      <td>1166.348828</td>\n",
              "      <td>-4946.845593</td>\n",
              "      <td>1115.55</td>\n",
              "      <td>1913.94</td>\n",
              "      <td>2724.53</td>\n",
              "      <td>10147.345902</td>\n",
              "    </tr>\n",
              "    <tr>\n",
              "      <th>Minimum_bill</th>\n",
              "      <td>49737.0</td>\n",
              "      <td>197.738539</td>\n",
              "      <td>82.317575</td>\n",
              "      <td>-304.917730</td>\n",
              "      <td>135.45</td>\n",
              "      <td>193.98</td>\n",
              "      <td>255.04</td>\n",
              "      <td>821.409409</td>\n",
              "    </tr>\n",
              "    <tr>\n",
              "      <th>Last_order_placed_date</th>\n",
              "      <td>49737.0</td>\n",
              "      <td>1063.767276</td>\n",
              "      <td>616.452181</td>\n",
              "      <td>0.000000</td>\n",
              "      <td>530.00</td>\n",
              "      <td>1063.00</td>\n",
              "      <td>1597.00</td>\n",
              "      <td>2130.000000</td>\n",
              "    </tr>\n",
              "    <tr>\n",
              "      <th>No_of_issues_raised</th>\n",
              "      <td>49737.0</td>\n",
              "      <td>127.368974</td>\n",
              "      <td>92.278305</td>\n",
              "      <td>-477.349415</td>\n",
              "      <td>62.00</td>\n",
              "      <td>127.00</td>\n",
              "      <td>192.00</td>\n",
              "      <td>724.669533</td>\n",
              "    </tr>\n",
              "    <tr>\n",
              "      <th>Customer_rating</th>\n",
              "      <td>49737.0</td>\n",
              "      <td>3.873394</td>\n",
              "      <td>0.643101</td>\n",
              "      <td>2.000000</td>\n",
              "      <td>4.00</td>\n",
              "      <td>4.00</td>\n",
              "      <td>4.00</td>\n",
              "      <td>5.000000</td>\n",
              "    </tr>\n",
              "    <tr>\n",
              "      <th>Average_food_rating</th>\n",
              "      <td>49737.0</td>\n",
              "      <td>3.696986</td>\n",
              "      <td>0.841274</td>\n",
              "      <td>1.000000</td>\n",
              "      <td>3.00</td>\n",
              "      <td>4.00</td>\n",
              "      <td>4.00</td>\n",
              "      <td>5.000000</td>\n",
              "    </tr>\n",
              "    <tr>\n",
              "      <th>Average_happiness_rating</th>\n",
              "      <td>49737.0</td>\n",
              "      <td>3.684199</td>\n",
              "      <td>0.848253</td>\n",
              "      <td>2.000000</td>\n",
              "      <td>3.00</td>\n",
              "      <td>4.00</td>\n",
              "      <td>4.00</td>\n",
              "      <td>5.000000</td>\n",
              "    </tr>\n",
              "    <tr>\n",
              "      <th>Coupon_consumption_status</th>\n",
              "      <td>49737.0</td>\n",
              "      <td>74.667390</td>\n",
              "      <td>42.231478</td>\n",
              "      <td>5.000000</td>\n",
              "      <td>39.00</td>\n",
              "      <td>69.00</td>\n",
              "      <td>106.00</td>\n",
              "      <td>170.000000</td>\n",
              "    </tr>\n",
              "    <tr>\n",
              "      <th>Coupons_offered</th>\n",
              "      <td>49737.0</td>\n",
              "      <td>184.394535</td>\n",
              "      <td>97.624393</td>\n",
              "      <td>15.000000</td>\n",
              "      <td>88.00</td>\n",
              "      <td>205.00</td>\n",
              "      <td>268.00</td>\n",
              "      <td>370.000000</td>\n",
              "    </tr>\n",
              "    <tr>\n",
              "      <th>Discount_percentage</th>\n",
              "      <td>49737.0</td>\n",
              "      <td>36.340692</td>\n",
              "      <td>9.682157</td>\n",
              "      <td>10.000000</td>\n",
              "      <td>30.00</td>\n",
              "      <td>36.00</td>\n",
              "      <td>44.00</td>\n",
              "      <td>59.000000</td>\n",
              "    </tr>\n",
              "  </tbody>\n",
              "</table>\n",
              "</div>"
            ],
            "text/plain": [
              "                             count         mean  ...      75%           max\n",
              "No_of_orders_placed        49737.0   127.368974  ...   192.00    724.669533\n",
              "Maximum_bill               49737.0  1950.004482  ...  2724.53  10147.345902\n",
              "Minimum_bill               49737.0   197.738539  ...   255.04    821.409409\n",
              "Last_order_placed_date     49737.0  1063.767276  ...  1597.00   2130.000000\n",
              "No_of_issues_raised        49737.0   127.368974  ...   192.00    724.669533\n",
              "Customer_rating            49737.0     3.873394  ...     4.00      5.000000\n",
              "Average_food_rating        49737.0     3.696986  ...     4.00      5.000000\n",
              "Average_happiness_rating   49737.0     3.684199  ...     4.00      5.000000\n",
              "Coupon_consumption_status  49737.0    74.667390  ...   106.00    170.000000\n",
              "Coupons_offered            49737.0   184.394535  ...   268.00    370.000000\n",
              "Discount_percentage        49737.0    36.340692  ...    44.00     59.000000\n",
              "\n",
              "[11 rows x 8 columns]"
            ]
          },
          "metadata": {},
          "execution_count": 160
        }
      ]
    },
    {
      "cell_type": "code",
      "metadata": {
        "id": "YltDYiXjtsG9",
        "colab": {
          "base_uri": "https://localhost:8080/"
        },
        "outputId": "39f1fbfd-b918-480a-f38a-fc865417a91d"
      },
      "source": [
        "train_Dataset.Category_of_customers = pd.Categorical(train_Dataset.Category_of_customers)\n",
        "train_Dataset['Category_of_customers'] = train_Dataset.Category_of_customers.cat.codes\n",
        "\n",
        "train_Dataset.Premium_membership = pd.Categorical(train_Dataset.Premium_membership)\n",
        "train_Dataset['Premium_membership'] = train_Dataset.Premium_membership.cat.codes\n",
        "\n",
        "\n",
        "test_Dataset.Category_of_customers = pd.Categorical(test_Dataset.Category_of_customers)\n",
        "test_Dataset['Category_of_customers'] = test_Dataset.Category_of_customers.cat.codes\n",
        "\n",
        "test_Dataset.Premium_membership = pd.Categorical(test_Dataset.Premium_membership)\n",
        "test_Dataset['Premium_membership'] = test_Dataset.Premium_membership.cat.codes"
      ],
      "execution_count": 161,
      "outputs": [
        {
          "output_type": "stream",
          "name": "stderr",
          "text": [
            "/usr/local/lib/python3.7/dist-packages/pandas/core/generic.py:5170: SettingWithCopyWarning: \n",
            "A value is trying to be set on a copy of a slice from a DataFrame.\n",
            "Try using .loc[row_indexer,col_indexer] = value instead\n",
            "\n",
            "See the caveats in the documentation: https://pandas.pydata.org/pandas-docs/stable/user_guide/indexing.html#returning-a-view-versus-a-copy\n",
            "  self[name] = value\n",
            "/usr/local/lib/python3.7/dist-packages/ipykernel_launcher.py:2: SettingWithCopyWarning: \n",
            "A value is trying to be set on a copy of a slice from a DataFrame.\n",
            "Try using .loc[row_indexer,col_indexer] = value instead\n",
            "\n",
            "See the caveats in the documentation: https://pandas.pydata.org/pandas-docs/stable/user_guide/indexing.html#returning-a-view-versus-a-copy\n",
            "  \n",
            "/usr/local/lib/python3.7/dist-packages/ipykernel_launcher.py:5: SettingWithCopyWarning: \n",
            "A value is trying to be set on a copy of a slice from a DataFrame.\n",
            "Try using .loc[row_indexer,col_indexer] = value instead\n",
            "\n",
            "See the caveats in the documentation: https://pandas.pydata.org/pandas-docs/stable/user_guide/indexing.html#returning-a-view-versus-a-copy\n",
            "  \"\"\"\n"
          ]
        }
      ]
    },
    {
      "cell_type": "code",
      "metadata": {
        "id": "BOZJUQ2_0Ccu"
      },
      "source": [
        ""
      ],
      "execution_count": 57,
      "outputs": []
    },
    {
      "cell_type": "code",
      "metadata": {
        "id": "TJZLAJAT1eJK"
      },
      "source": [
        "train_Dataset = train_Dataset.drop('Customer_ID', 1)\n",
        "\n",
        "\n",
        "testCustermerID = test_Dataset['Customer_ID']\n",
        "test_Dataset = test_Dataset.drop('Customer_ID', 1)"
      ],
      "execution_count": 162,
      "outputs": []
    },
    {
      "cell_type": "code",
      "metadata": {
        "colab": {
          "base_uri": "https://localhost:8080/"
        },
        "id": "b5FdqvCRAo2W",
        "outputId": "269654c2-4a79-4f3d-d0bb-0b5e99ff093c"
      },
      "source": [
        "train_Dataset.shape"
      ],
      "execution_count": 163,
      "outputs": [
        {
          "output_type": "execute_result",
          "data": {
            "text/plain": [
              "(49737, 13)"
            ]
          },
          "metadata": {},
          "execution_count": 163
        }
      ]
    },
    {
      "cell_type": "code",
      "metadata": {
        "id": "bQ3pwEpr1s1H"
      },
      "source": [
        "trainX = train_Dataset\n",
        "trainX = trainX.drop('Discount_percentage',1)\n",
        "trainY = train_Dataset['Discount_percentage']\n",
        "\n",
        "testX = test_Dataset"
      ],
      "execution_count": 164,
      "outputs": []
    },
    {
      "cell_type": "code",
      "metadata": {
        "id": "wbhAS-A0PVJZ"
      },
      "source": [
        "#from sklearn.model_selection import train_test_split\n",
        "#X_train, X_test, y_train, y_test = train_test_split(trainX, trainY, test_size=0.20, random_state=33)"
      ],
      "execution_count": null,
      "outputs": []
    },
    {
      "cell_type": "code",
      "metadata": {
        "id": "zqxS21ryeeIp"
      },
      "source": [
        "X_train = trainX\n",
        "y_train = trainY"
      ],
      "execution_count": 165,
      "outputs": []
    },
    {
      "cell_type": "code",
      "metadata": {
        "id": "bAi59ADe9PV2"
      },
      "source": [
        ""
      ],
      "execution_count": null,
      "outputs": []
    },
    {
      "cell_type": "markdown",
      "metadata": {
        "id": "_s_W5iHB9QMG"
      },
      "source": [
        "Model Training Start"
      ]
    },
    {
      "cell_type": "code",
      "metadata": {
        "id": "RoBtzW4lE_lk"
      },
      "source": [
        "import tensorflow as tf\n",
        "\n",
        "from tensorflow import keras\n",
        "from tensorflow.keras import layers\n",
        "from tensorflow.keras.layers.experimental import preprocessing"
      ],
      "execution_count": 166,
      "outputs": []
    },
    {
      "cell_type": "code",
      "metadata": {
        "colab": {
          "base_uri": "https://localhost:8080/"
        },
        "id": "MFX4obcDgkrA",
        "outputId": "93005827-720e-4b96-b22f-7a428a308c64"
      },
      "source": [
        "# create model\n",
        "model = keras.Sequential()\n",
        "model.add(keras.layers.Dense(50, input_dim=12, activation='relu'))\n",
        "model.add(keras.layers.Dense(50, activation='relu'))\n",
        "model.add(keras.layers.Dense(50, activation='relu'))\n",
        "model.add(keras.layers.Dense(1))\n",
        "# Compile model\n",
        "opt = tf.keras.optimizers.RMSprop(0.0099)\n",
        "model.compile(loss='mse', optimizer=opt)\n",
        "# evaluate model with standardized dataset\n",
        "\n",
        "history = model.fit(X_train,y_train, epochs=100)"
      ],
      "execution_count": 170,
      "outputs": [
        {
          "output_type": "stream",
          "name": "stdout",
          "text": [
            "Epoch 1/100\n",
            "1555/1555 [==============================] - 6s 4ms/step - loss: 1217.0282 - mse: 1217.0282\n",
            "Epoch 2/100\n",
            "1555/1555 [==============================] - 5s 3ms/step - loss: 82.8109 - mse: 82.8109\n",
            "Epoch 3/100\n",
            "1555/1555 [==============================] - 5s 3ms/step - loss: 71.8305 - mse: 71.8305\n",
            "Epoch 4/100\n",
            "1555/1555 [==============================] - 5s 4ms/step - loss: 68.4866 - mse: 68.4866\n",
            "Epoch 5/100\n",
            "1555/1555 [==============================] - 5s 4ms/step - loss: 68.3548 - mse: 68.3548\n",
            "Epoch 6/100\n",
            "1555/1555 [==============================] - 5s 3ms/step - loss: 66.5362 - mse: 66.5362\n",
            "Epoch 7/100\n",
            "1555/1555 [==============================] - 5s 4ms/step - loss: 65.3753 - mse: 65.3753\n",
            "Epoch 8/100\n",
            "1555/1555 [==============================] - 6s 4ms/step - loss: 64.5178 - mse: 64.5178\n",
            "Epoch 9/100\n",
            "1555/1555 [==============================] - 5s 3ms/step - loss: 64.2419 - mse: 64.2419\n",
            "Epoch 10/100\n",
            "1555/1555 [==============================] - 5s 3ms/step - loss: 63.4583 - mse: 63.4583\n",
            "Epoch 11/100\n",
            "1555/1555 [==============================] - 5s 3ms/step - loss: 63.4275 - mse: 63.4275\n",
            "Epoch 12/100\n",
            "1555/1555 [==============================] - 5s 3ms/step - loss: 63.1250 - mse: 63.1250\n",
            "Epoch 13/100\n",
            "1555/1555 [==============================] - 5s 3ms/step - loss: 63.0460 - mse: 63.0460\n",
            "Epoch 14/100\n",
            "1555/1555 [==============================] - 5s 3ms/step - loss: 62.9147 - mse: 62.9147\n",
            "Epoch 15/100\n",
            "1555/1555 [==============================] - 5s 4ms/step - loss: 62.7441 - mse: 62.7441\n",
            "Epoch 16/100\n",
            "1555/1555 [==============================] - 5s 3ms/step - loss: 62.4268 - mse: 62.4268\n",
            "Epoch 17/100\n",
            "1555/1555 [==============================] - 6s 4ms/step - loss: 62.2994 - mse: 62.2994\n",
            "Epoch 18/100\n",
            "1555/1555 [==============================] - 6s 4ms/step - loss: 62.3333 - mse: 62.3333\n",
            "Epoch 19/100\n",
            "1555/1555 [==============================] - 6s 4ms/step - loss: 62.2058 - mse: 62.2058\n",
            "Epoch 20/100\n",
            "1555/1555 [==============================] - 6s 4ms/step - loss: 61.8150 - mse: 61.8150\n",
            "Epoch 21/100\n",
            "1555/1555 [==============================] - 5s 4ms/step - loss: 61.6945 - mse: 61.6945\n",
            "Epoch 22/100\n",
            "1555/1555 [==============================] - 5s 3ms/step - loss: 61.8202 - mse: 61.8202\n",
            "Epoch 23/100\n",
            "1555/1555 [==============================] - 5s 4ms/step - loss: 61.8875 - mse: 61.8875\n",
            "Epoch 24/100\n",
            "1555/1555 [==============================] - 5s 4ms/step - loss: 61.8128 - mse: 61.8128\n",
            "Epoch 25/100\n",
            "1555/1555 [==============================] - 6s 4ms/step - loss: 61.6737 - mse: 61.6737\n",
            "Epoch 26/100\n",
            "1555/1555 [==============================] - 5s 3ms/step - loss: 61.5111 - mse: 61.5111\n",
            "Epoch 27/100\n",
            "1555/1555 [==============================] - 6s 4ms/step - loss: 61.7142 - mse: 61.7142\n",
            "Epoch 28/100\n",
            "1555/1555 [==============================] - 6s 4ms/step - loss: 61.6044 - mse: 61.6044\n",
            "Epoch 29/100\n",
            "1555/1555 [==============================] - 5s 4ms/step - loss: 61.6933 - mse: 61.6933\n",
            "Epoch 30/100\n",
            "1555/1555 [==============================] - 5s 4ms/step - loss: 61.4539 - mse: 61.4539\n",
            "Epoch 31/100\n",
            "1555/1555 [==============================] - 5s 4ms/step - loss: 61.3851 - mse: 61.3851\n",
            "Epoch 32/100\n",
            "1555/1555 [==============================] - 6s 4ms/step - loss: 61.4843 - mse: 61.4843\n",
            "Epoch 33/100\n",
            "1555/1555 [==============================] - 5s 4ms/step - loss: 61.2779 - mse: 61.2779\n",
            "Epoch 34/100\n",
            "1555/1555 [==============================] - 6s 4ms/step - loss: 61.4024 - mse: 61.4024\n",
            "Epoch 35/100\n",
            "1555/1555 [==============================] - 5s 4ms/step - loss: 61.3355 - mse: 61.3355\n",
            "Epoch 36/100\n",
            "1555/1555 [==============================] - 5s 3ms/step - loss: 61.2790 - mse: 61.2790\n",
            "Epoch 37/100\n",
            "1555/1555 [==============================] - 5s 4ms/step - loss: 61.1697 - mse: 61.1697\n",
            "Epoch 38/100\n",
            "1555/1555 [==============================] - 5s 4ms/step - loss: 61.1264 - mse: 61.1264\n",
            "Epoch 39/100\n",
            "1555/1555 [==============================] - 5s 3ms/step - loss: 61.3026 - mse: 61.3026\n",
            "Epoch 40/100\n",
            "1555/1555 [==============================] - 5s 4ms/step - loss: 61.1841 - mse: 61.1841\n",
            "Epoch 41/100\n",
            "1555/1555 [==============================] - 5s 4ms/step - loss: 61.1254 - mse: 61.1254\n",
            "Epoch 42/100\n",
            "1555/1555 [==============================] - 5s 4ms/step - loss: 61.1020 - mse: 61.1020\n",
            "Epoch 43/100\n",
            "1555/1555 [==============================] - 5s 3ms/step - loss: 61.0653 - mse: 61.0653\n",
            "Epoch 44/100\n",
            "1555/1555 [==============================] - 5s 4ms/step - loss: 61.1931 - mse: 61.1931\n",
            "Epoch 45/100\n",
            "1555/1555 [==============================] - 5s 4ms/step - loss: 60.8757 - mse: 60.8757\n",
            "Epoch 46/100\n",
            "1555/1555 [==============================] - 5s 4ms/step - loss: 61.0796 - mse: 61.0796\n",
            "Epoch 47/100\n",
            "1555/1555 [==============================] - 5s 4ms/step - loss: 60.8525 - mse: 60.8525\n",
            "Epoch 48/100\n",
            "1555/1555 [==============================] - 6s 4ms/step - loss: 60.9575 - mse: 60.9575\n",
            "Epoch 49/100\n",
            "1555/1555 [==============================] - 5s 3ms/step - loss: 60.8323 - mse: 60.8323\n",
            "Epoch 50/100\n",
            "1555/1555 [==============================] - 5s 4ms/step - loss: 60.8426 - mse: 60.8426\n",
            "Epoch 51/100\n",
            "1555/1555 [==============================] - 5s 4ms/step - loss: 60.7685 - mse: 60.7685\n",
            "Epoch 52/100\n",
            "1555/1555 [==============================] - 5s 4ms/step - loss: 60.9115 - mse: 60.9115\n",
            "Epoch 53/100\n",
            "1555/1555 [==============================] - 5s 3ms/step - loss: 60.8009 - mse: 60.8009\n",
            "Epoch 54/100\n",
            "1555/1555 [==============================] - 5s 4ms/step - loss: 60.6883 - mse: 60.6883\n",
            "Epoch 55/100\n",
            "1555/1555 [==============================] - 5s 4ms/step - loss: 60.9529 - mse: 60.9529\n",
            "Epoch 56/100\n",
            "1555/1555 [==============================] - 5s 3ms/step - loss: 61.0369 - mse: 61.0369\n",
            "Epoch 57/100\n",
            "1555/1555 [==============================] - 5s 4ms/step - loss: 60.9297 - mse: 60.9297\n",
            "Epoch 58/100\n",
            "1555/1555 [==============================] - 6s 4ms/step - loss: 60.7678 - mse: 60.7678\n",
            "Epoch 59/100\n",
            "1555/1555 [==============================] - 5s 4ms/step - loss: 60.8189 - mse: 60.8189\n",
            "Epoch 60/100\n",
            "1555/1555 [==============================] - 5s 3ms/step - loss: 60.9020 - mse: 60.9020\n",
            "Epoch 61/100\n",
            "1555/1555 [==============================] - 6s 4ms/step - loss: 60.7269 - mse: 60.7269\n",
            "Epoch 62/100\n",
            "1555/1555 [==============================] - 5s 4ms/step - loss: 60.8592 - mse: 60.8592\n",
            "Epoch 63/100\n",
            "1555/1555 [==============================] - 6s 4ms/step - loss: 60.6955 - mse: 60.6955\n",
            "Epoch 64/100\n",
            "1555/1555 [==============================] - 6s 4ms/step - loss: 60.6875 - mse: 60.6875\n",
            "Epoch 65/100\n",
            "1555/1555 [==============================] - 6s 4ms/step - loss: 61.0496 - mse: 61.0496\n",
            "Epoch 66/100\n",
            "1555/1555 [==============================] - 6s 4ms/step - loss: 61.2062 - mse: 61.2062\n",
            "Epoch 67/100\n",
            "1555/1555 [==============================] - 6s 4ms/step - loss: 60.7616 - mse: 60.7616\n",
            "Epoch 68/100\n",
            "1555/1555 [==============================] - 6s 4ms/step - loss: 60.8715 - mse: 60.8715\n",
            "Epoch 69/100\n",
            "1555/1555 [==============================] - 6s 4ms/step - loss: 60.6986 - mse: 60.6986\n",
            "Epoch 70/100\n",
            "1555/1555 [==============================] - 6s 4ms/step - loss: 60.5953 - mse: 60.5953\n",
            "Epoch 71/100\n",
            "1555/1555 [==============================] - 6s 4ms/step - loss: 60.6891 - mse: 60.6891\n",
            "Epoch 72/100\n",
            "1555/1555 [==============================] - 6s 4ms/step - loss: 60.6639 - mse: 60.6639\n",
            "Epoch 73/100\n",
            "1555/1555 [==============================] - 6s 4ms/step - loss: 60.6053 - mse: 60.6053\n",
            "Epoch 74/100\n",
            "1555/1555 [==============================] - 6s 4ms/step - loss: 60.7252 - mse: 60.7252\n",
            "Epoch 75/100\n",
            "1555/1555 [==============================] - 6s 4ms/step - loss: 60.6670 - mse: 60.6670\n",
            "Epoch 76/100\n",
            "1555/1555 [==============================] - 6s 4ms/step - loss: 60.4077 - mse: 60.4077\n",
            "Epoch 77/100\n",
            "1555/1555 [==============================] - 6s 4ms/step - loss: 60.5660 - mse: 60.5660\n",
            "Epoch 78/100\n",
            "1555/1555 [==============================] - 6s 4ms/step - loss: 60.6239 - mse: 60.6239\n",
            "Epoch 79/100\n",
            "1555/1555 [==============================] - 6s 4ms/step - loss: 60.3975 - mse: 60.3975\n",
            "Epoch 80/100\n",
            "1555/1555 [==============================] - 6s 4ms/step - loss: 60.4004 - mse: 60.4004\n",
            "Epoch 81/100\n",
            "1555/1555 [==============================] - 6s 4ms/step - loss: 60.5342 - mse: 60.5342\n",
            "Epoch 82/100\n",
            "1555/1555 [==============================] - 6s 4ms/step - loss: 60.4685 - mse: 60.4685\n",
            "Epoch 83/100\n",
            "1555/1555 [==============================] - 6s 4ms/step - loss: 60.4494 - mse: 60.4494\n",
            "Epoch 84/100\n",
            "1555/1555 [==============================] - 6s 4ms/step - loss: 60.5797 - mse: 60.5797\n",
            "Epoch 85/100\n",
            "1555/1555 [==============================] - 6s 4ms/step - loss: 60.5241 - mse: 60.5241\n",
            "Epoch 86/100\n",
            "1555/1555 [==============================] - 6s 4ms/step - loss: 60.3897 - mse: 60.3897\n",
            "Epoch 87/100\n",
            "1555/1555 [==============================] - 6s 4ms/step - loss: 60.5034 - mse: 60.5034\n",
            "Epoch 88/100\n",
            "1555/1555 [==============================] - 6s 4ms/step - loss: 60.2693 - mse: 60.2693\n",
            "Epoch 89/100\n",
            "1555/1555 [==============================] - 6s 4ms/step - loss: 60.3404 - mse: 60.3404\n",
            "Epoch 90/100\n",
            "1555/1555 [==============================] - 6s 4ms/step - loss: 60.3597 - mse: 60.3597\n",
            "Epoch 91/100\n",
            "1555/1555 [==============================] - 6s 4ms/step - loss: 60.3025 - mse: 60.3025\n",
            "Epoch 92/100\n",
            "1555/1555 [==============================] - 6s 4ms/step - loss: 60.3055 - mse: 60.3055\n",
            "Epoch 93/100\n",
            "1555/1555 [==============================] - 6s 4ms/step - loss: 60.4412 - mse: 60.4412\n",
            "Epoch 94/100\n",
            "1555/1555 [==============================] - 6s 4ms/step - loss: 60.2162 - mse: 60.2162\n",
            "Epoch 95/100\n",
            "1555/1555 [==============================] - 6s 4ms/step - loss: 60.3170 - mse: 60.3170\n",
            "Epoch 96/100\n",
            "1555/1555 [==============================] - 6s 4ms/step - loss: 60.2795 - mse: 60.2795\n",
            "Epoch 97/100\n",
            "1555/1555 [==============================] - 6s 4ms/step - loss: 60.3009 - mse: 60.3009\n",
            "Epoch 98/100\n",
            "1555/1555 [==============================] - 5s 4ms/step - loss: 60.3565 - mse: 60.3565\n",
            "Epoch 99/100\n",
            "1555/1555 [==============================] - 6s 4ms/step - loss: 60.2711 - mse: 60.2711\n",
            "Epoch 100/100\n",
            "1555/1555 [==============================] - 6s 4ms/step - loss: 60.3151 - mse: 60.3151\n"
          ]
        }
      ]
    },
    {
      "cell_type": "code",
      "metadata": {
        "id": "ZoPNopb2sAZc",
        "colab": {
          "base_uri": "https://localhost:8080/",
          "height": 180
        },
        "outputId": "7702a54f-a759-4194-ae95-4f8fcb76ffac"
      },
      "source": [
        "y_predict = model.predict(X_train)\n",
        "np.round(y_predict)"
      ],
      "execution_count": 1,
      "outputs": [
        {
          "output_type": "error",
          "ename": "NameError",
          "evalue": "ignored",
          "traceback": [
            "\u001b[0;31m---------------------------------------------------------------------------\u001b[0m",
            "\u001b[0;31mNameError\u001b[0m                                 Traceback (most recent call last)",
            "\u001b[0;32m<ipython-input-1-7abb51bfe8e9>\u001b[0m in \u001b[0;36m<module>\u001b[0;34m()\u001b[0m\n\u001b[0;32m----> 1\u001b[0;31m \u001b[0my_predict\u001b[0m \u001b[0;34m=\u001b[0m \u001b[0mmodel\u001b[0m\u001b[0;34m.\u001b[0m\u001b[0mpredict\u001b[0m\u001b[0;34m(\u001b[0m\u001b[0mX_train\u001b[0m\u001b[0;34m)\u001b[0m\u001b[0;34m\u001b[0m\u001b[0;34m\u001b[0m\u001b[0m\n\u001b[0m\u001b[1;32m      2\u001b[0m \u001b[0mnp\u001b[0m\u001b[0;34m.\u001b[0m\u001b[0mround\u001b[0m\u001b[0;34m(\u001b[0m\u001b[0my_predict\u001b[0m\u001b[0;34m)\u001b[0m\u001b[0;34m\u001b[0m\u001b[0;34m\u001b[0m\u001b[0m\n",
            "\u001b[0;31mNameError\u001b[0m: name 'model' is not defined"
          ]
        }
      ]
    },
    {
      "cell_type": "code",
      "metadata": {
        "id": "709H0vUAPP8x"
      },
      "source": [
        "from sklearn.metrics import r2_score\n",
        "r2_score(y_train, y_predict)*100"
      ],
      "execution_count": null,
      "outputs": []
    },
    {
      "cell_type": "code",
      "metadata": {
        "id": "XP57kc2oWc72"
      },
      "source": [
        "y_predict_test = model.predict(testX)\n",
        "y_predict_test"
      ],
      "execution_count": null,
      "outputs": []
    },
    {
      "cell_type": "code",
      "metadata": {
        "id": "F7HE2zJ1Wg36"
      },
      "source": [
        "testCustermerID = pd.DataFrame(testCustermerID) \n",
        "y_predict_test = pd.DataFrame(y_predict_test) "
      ],
      "execution_count": null,
      "outputs": []
    },
    {
      "cell_type": "code",
      "metadata": {
        "id": "jbHkfptvD1RH"
      },
      "source": [
        "submission = pd.DataFrame(testCustermerID)\n",
        "submission['Discount_percentage'] = y_predict_test\n",
        "submission"
      ],
      "execution_count": null,
      "outputs": []
    },
    {
      "cell_type": "code",
      "metadata": {
        "id": "mI98KwWoD2-E"
      },
      "source": [
        ""
      ],
      "execution_count": null,
      "outputs": []
    },
    {
      "cell_type": "code",
      "metadata": {
        "id": "-nuCDug8FCdw"
      },
      "source": [
        "submission.to_csv('Submission2.csv', index=False) \n",
        "files.download('Submission2.csv')"
      ],
      "execution_count": null,
      "outputs": []
    }
  ]
}